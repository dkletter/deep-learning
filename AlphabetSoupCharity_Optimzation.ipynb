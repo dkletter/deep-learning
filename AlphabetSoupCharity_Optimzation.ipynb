{
 "cells": [
  {
   "cell_type": "markdown",
   "id": "3792e18e",
   "metadata": {},
   "source": [
    "## Preprocessing"
   ]
  },
  {
   "cell_type": "code",
   "execution_count": 1,
   "id": "d4231ffa",
   "metadata": {},
   "outputs": [],
   "source": [
    "# Import our dependencies\n",
    "from sklearn.model_selection import train_test_split\n",
    "from sklearn.preprocessing import StandardScaler, MinMaxScaler\n",
    "import numpy as np\n",
    "import pandas as pd\n",
    "import tensorflow as tf\n",
    "import keras_tuner as kt"
   ]
  },
  {
   "cell_type": "code",
   "execution_count": 2,
   "id": "6a0fcd29",
   "metadata": {},
   "outputs": [
    {
     "data": {
      "text/html": [
       "<div>\n",
       "<style scoped>\n",
       "    .dataframe tbody tr th:only-of-type {\n",
       "        vertical-align: middle;\n",
       "    }\n",
       "\n",
       "    .dataframe tbody tr th {\n",
       "        vertical-align: top;\n",
       "    }\n",
       "\n",
       "    .dataframe thead th {\n",
       "        text-align: right;\n",
       "    }\n",
       "</style>\n",
       "<table border=\"1\" class=\"dataframe\">\n",
       "  <thead>\n",
       "    <tr style=\"text-align: right;\">\n",
       "      <th></th>\n",
       "      <th>EIN</th>\n",
       "      <th>NAME</th>\n",
       "      <th>APPLICATION_TYPE</th>\n",
       "      <th>AFFILIATION</th>\n",
       "      <th>CLASSIFICATION</th>\n",
       "      <th>USE_CASE</th>\n",
       "      <th>ORGANIZATION</th>\n",
       "      <th>STATUS</th>\n",
       "      <th>INCOME_AMT</th>\n",
       "      <th>SPECIAL_CONSIDERATIONS</th>\n",
       "      <th>ASK_AMT</th>\n",
       "      <th>IS_SUCCESSFUL</th>\n",
       "    </tr>\n",
       "  </thead>\n",
       "  <tbody>\n",
       "    <tr>\n",
       "      <th>0</th>\n",
       "      <td>10520599</td>\n",
       "      <td>BLUE KNIGHTS MOTORCYCLE CLUB</td>\n",
       "      <td>T10</td>\n",
       "      <td>Independent</td>\n",
       "      <td>C1000</td>\n",
       "      <td>ProductDev</td>\n",
       "      <td>Association</td>\n",
       "      <td>1</td>\n",
       "      <td>0</td>\n",
       "      <td>N</td>\n",
       "      <td>5000</td>\n",
       "      <td>1</td>\n",
       "    </tr>\n",
       "    <tr>\n",
       "      <th>1</th>\n",
       "      <td>10531628</td>\n",
       "      <td>AMERICAN CHESAPEAKE CLUB CHARITABLE TR</td>\n",
       "      <td>T3</td>\n",
       "      <td>Independent</td>\n",
       "      <td>C2000</td>\n",
       "      <td>Preservation</td>\n",
       "      <td>Co-operative</td>\n",
       "      <td>1</td>\n",
       "      <td>1-9999</td>\n",
       "      <td>N</td>\n",
       "      <td>108590</td>\n",
       "      <td>1</td>\n",
       "    </tr>\n",
       "    <tr>\n",
       "      <th>2</th>\n",
       "      <td>10547893</td>\n",
       "      <td>ST CLOUD PROFESSIONAL FIREFIGHTERS</td>\n",
       "      <td>T5</td>\n",
       "      <td>CompanySponsored</td>\n",
       "      <td>C3000</td>\n",
       "      <td>ProductDev</td>\n",
       "      <td>Association</td>\n",
       "      <td>1</td>\n",
       "      <td>0</td>\n",
       "      <td>N</td>\n",
       "      <td>5000</td>\n",
       "      <td>0</td>\n",
       "    </tr>\n",
       "    <tr>\n",
       "      <th>3</th>\n",
       "      <td>10553066</td>\n",
       "      <td>SOUTHSIDE ATHLETIC ASSOCIATION</td>\n",
       "      <td>T3</td>\n",
       "      <td>CompanySponsored</td>\n",
       "      <td>C2000</td>\n",
       "      <td>Preservation</td>\n",
       "      <td>Trust</td>\n",
       "      <td>1</td>\n",
       "      <td>10000-24999</td>\n",
       "      <td>N</td>\n",
       "      <td>6692</td>\n",
       "      <td>1</td>\n",
       "    </tr>\n",
       "    <tr>\n",
       "      <th>4</th>\n",
       "      <td>10556103</td>\n",
       "      <td>GENETIC RESEARCH INSTITUTE OF THE DESERT</td>\n",
       "      <td>T3</td>\n",
       "      <td>Independent</td>\n",
       "      <td>C1000</td>\n",
       "      <td>Heathcare</td>\n",
       "      <td>Trust</td>\n",
       "      <td>1</td>\n",
       "      <td>100000-499999</td>\n",
       "      <td>N</td>\n",
       "      <td>142590</td>\n",
       "      <td>1</td>\n",
       "    </tr>\n",
       "  </tbody>\n",
       "</table>\n",
       "</div>"
      ],
      "text/plain": [
       "        EIN                                      NAME APPLICATION_TYPE  \\\n",
       "0  10520599              BLUE KNIGHTS MOTORCYCLE CLUB              T10   \n",
       "1  10531628    AMERICAN CHESAPEAKE CLUB CHARITABLE TR               T3   \n",
       "2  10547893        ST CLOUD PROFESSIONAL FIREFIGHTERS               T5   \n",
       "3  10553066            SOUTHSIDE ATHLETIC ASSOCIATION               T3   \n",
       "4  10556103  GENETIC RESEARCH INSTITUTE OF THE DESERT               T3   \n",
       "\n",
       "        AFFILIATION CLASSIFICATION      USE_CASE  ORGANIZATION  STATUS  \\\n",
       "0       Independent          C1000    ProductDev   Association       1   \n",
       "1       Independent          C2000  Preservation  Co-operative       1   \n",
       "2  CompanySponsored          C3000    ProductDev   Association       1   \n",
       "3  CompanySponsored          C2000  Preservation         Trust       1   \n",
       "4       Independent          C1000     Heathcare         Trust       1   \n",
       "\n",
       "      INCOME_AMT SPECIAL_CONSIDERATIONS  ASK_AMT  IS_SUCCESSFUL  \n",
       "0              0                      N     5000              1  \n",
       "1         1-9999                      N   108590              1  \n",
       "2              0                      N     5000              0  \n",
       "3    10000-24999                      N     6692              1  \n",
       "4  100000-499999                      N   142590              1  "
      ]
     },
     "execution_count": 2,
     "metadata": {},
     "output_type": "execute_result"
    }
   ],
   "source": [
    "# Import and read the charity_data.csv\n",
    "raw_data_df = pd.read_csv('resources/charity_data.csv')\n",
    "raw_data_df.head()"
   ]
  },
  {
   "cell_type": "code",
   "execution_count": 3,
   "id": "b06d77b1",
   "metadata": {},
   "outputs": [
    {
     "data": {
      "text/html": [
       "<div>\n",
       "<style scoped>\n",
       "    .dataframe tbody tr th:only-of-type {\n",
       "        vertical-align: middle;\n",
       "    }\n",
       "\n",
       "    .dataframe tbody tr th {\n",
       "        vertical-align: top;\n",
       "    }\n",
       "\n",
       "    .dataframe thead th {\n",
       "        text-align: right;\n",
       "    }\n",
       "</style>\n",
       "<table border=\"1\" class=\"dataframe\">\n",
       "  <thead>\n",
       "    <tr style=\"text-align: right;\">\n",
       "      <th></th>\n",
       "      <th>APPLICATION_TYPE</th>\n",
       "      <th>AFFILIATION</th>\n",
       "      <th>CLASSIFICATION</th>\n",
       "      <th>USE_CASE</th>\n",
       "      <th>ORGANIZATION</th>\n",
       "      <th>STATUS</th>\n",
       "      <th>INCOME_AMT</th>\n",
       "      <th>SPECIAL_CONSIDERATIONS</th>\n",
       "      <th>ASK_AMT</th>\n",
       "      <th>IS_SUCCESSFUL</th>\n",
       "    </tr>\n",
       "  </thead>\n",
       "  <tbody>\n",
       "    <tr>\n",
       "      <th>0</th>\n",
       "      <td>T10</td>\n",
       "      <td>Independent</td>\n",
       "      <td>C1000</td>\n",
       "      <td>ProductDev</td>\n",
       "      <td>Association</td>\n",
       "      <td>1</td>\n",
       "      <td>0</td>\n",
       "      <td>N</td>\n",
       "      <td>5000</td>\n",
       "      <td>1</td>\n",
       "    </tr>\n",
       "    <tr>\n",
       "      <th>1</th>\n",
       "      <td>T3</td>\n",
       "      <td>Independent</td>\n",
       "      <td>C2000</td>\n",
       "      <td>Preservation</td>\n",
       "      <td>Co-operative</td>\n",
       "      <td>1</td>\n",
       "      <td>1-9999</td>\n",
       "      <td>N</td>\n",
       "      <td>108590</td>\n",
       "      <td>1</td>\n",
       "    </tr>\n",
       "    <tr>\n",
       "      <th>2</th>\n",
       "      <td>T5</td>\n",
       "      <td>CompanySponsored</td>\n",
       "      <td>C3000</td>\n",
       "      <td>ProductDev</td>\n",
       "      <td>Association</td>\n",
       "      <td>1</td>\n",
       "      <td>0</td>\n",
       "      <td>N</td>\n",
       "      <td>5000</td>\n",
       "      <td>0</td>\n",
       "    </tr>\n",
       "    <tr>\n",
       "      <th>3</th>\n",
       "      <td>T3</td>\n",
       "      <td>CompanySponsored</td>\n",
       "      <td>C2000</td>\n",
       "      <td>Preservation</td>\n",
       "      <td>Trust</td>\n",
       "      <td>1</td>\n",
       "      <td>10000-24999</td>\n",
       "      <td>N</td>\n",
       "      <td>6692</td>\n",
       "      <td>1</td>\n",
       "    </tr>\n",
       "    <tr>\n",
       "      <th>4</th>\n",
       "      <td>T3</td>\n",
       "      <td>Independent</td>\n",
       "      <td>C1000</td>\n",
       "      <td>Heathcare</td>\n",
       "      <td>Trust</td>\n",
       "      <td>1</td>\n",
       "      <td>100000-499999</td>\n",
       "      <td>N</td>\n",
       "      <td>142590</td>\n",
       "      <td>1</td>\n",
       "    </tr>\n",
       "  </tbody>\n",
       "</table>\n",
       "</div>"
      ],
      "text/plain": [
       "  APPLICATION_TYPE       AFFILIATION CLASSIFICATION      USE_CASE  \\\n",
       "0              T10       Independent          C1000    ProductDev   \n",
       "1               T3       Independent          C2000  Preservation   \n",
       "2               T5  CompanySponsored          C3000    ProductDev   \n",
       "3               T3  CompanySponsored          C2000  Preservation   \n",
       "4               T3       Independent          C1000     Heathcare   \n",
       "\n",
       "   ORGANIZATION  STATUS     INCOME_AMT SPECIAL_CONSIDERATIONS  ASK_AMT  \\\n",
       "0   Association       1              0                      N     5000   \n",
       "1  Co-operative       1         1-9999                      N   108590   \n",
       "2   Association       1              0                      N     5000   \n",
       "3         Trust       1    10000-24999                      N     6692   \n",
       "4         Trust       1  100000-499999                      N   142590   \n",
       "\n",
       "   IS_SUCCESSFUL  \n",
       "0              1  \n",
       "1              1  \n",
       "2              0  \n",
       "3              1  \n",
       "4              1  "
      ]
     },
     "execution_count": 3,
     "metadata": {},
     "output_type": "execute_result"
    }
   ],
   "source": [
    "# Drop the non-beneficial ID columns, 'EIN' and 'NAME'\n",
    "alphabet_df = raw_data_df.drop(['EIN', 'NAME'], axis=1)\n",
    "alphabet_df.head()"
   ]
  },
  {
   "cell_type": "code",
   "execution_count": 4,
   "id": "442fbc7e",
   "metadata": {},
   "outputs": [
    {
     "name": "stdout",
     "output_type": "stream",
     "text": [
      "APPLICATION_TYPE            17\n",
      "AFFILIATION                  6\n",
      "CLASSIFICATION              71\n",
      "USE_CASE                     5\n",
      "ORGANIZATION                 4\n",
      "STATUS                       2\n",
      "INCOME_AMT                   9\n",
      "SPECIAL_CONSIDERATIONS       2\n",
      "ASK_AMT                   8747\n",
      "IS_SUCCESSFUL                2\n",
      "dtype: int64\n"
     ]
    }
   ],
   "source": [
    "# Determine the number of unique values in each column\n",
    "print(alphabet_df.nunique())"
   ]
  },
  {
   "cell_type": "code",
   "execution_count": 5,
   "id": "4e61f8d1",
   "metadata": {},
   "outputs": [
    {
     "data": {
      "text/plain": [
       "T3     27037\n",
       "T4      1542\n",
       "T6      1216\n",
       "T5      1173\n",
       "T19     1065\n",
       "T8       737\n",
       "T7       725\n",
       "T10      528\n",
       "T9       156\n",
       "T13       66\n",
       "T12       27\n",
       "T2        16\n",
       "T25        3\n",
       "T14        3\n",
       "T29        2\n",
       "T15        2\n",
       "T17        1\n",
       "Name: APPLICATION_TYPE, dtype: int64"
      ]
     },
     "execution_count": 5,
     "metadata": {},
     "output_type": "execute_result"
    }
   ],
   "source": [
    "# Look at APPLICATION_TYPE value counts for binning\n",
    "alphabet_df['APPLICATION_TYPE'].value_counts()"
   ]
  },
  {
   "cell_type": "code",
   "execution_count": 6,
   "id": "38c68fcd",
   "metadata": {},
   "outputs": [
    {
     "data": {
      "text/plain": [
       "T3       27037\n",
       "T4        1542\n",
       "T6        1216\n",
       "T5        1173\n",
       "T19       1065\n",
       "T8         737\n",
       "T7         725\n",
       "T10        528\n",
       "Other      276\n",
       "Name: APPLICATION_TYPE, dtype: int64"
      ]
     },
     "execution_count": 6,
     "metadata": {},
     "output_type": "execute_result"
    }
   ],
   "source": [
    "# Choose a cutoff value and create a list of application types to be replaced\n",
    "# use the variable name `application_types_to_replace`\n",
    "cut_off = 500\n",
    "\n",
    "application_types_to_replace = alphabet_df['APPLICATION_TYPE'].value_counts()[alphabet_df['APPLICATION_TYPE'].value_counts() < cut_off].index.tolist()\n",
    "\n",
    "# Replace in dataframe\n",
    "for app in application_types_to_replace:\n",
    "    alphabet_df['APPLICATION_TYPE'] = alphabet_df['APPLICATION_TYPE'].replace(app, 'Other')\n",
    "\n",
    "# Check to make sure binning was successful\n",
    "alphabet_df['APPLICATION_TYPE'].value_counts()"
   ]
  },
  {
   "cell_type": "code",
   "execution_count": 7,
   "id": "f1607d31",
   "metadata": {},
   "outputs": [
    {
     "data": {
      "text/plain": [
       "C1000    17326\n",
       "C2000     6074\n",
       "C1200     4837\n",
       "C3000     1918\n",
       "C2100     1883\n",
       "         ...  \n",
       "C2170        1\n",
       "C1820        1\n",
       "C2561        1\n",
       "C4200        1\n",
       "C1370        1\n",
       "Name: CLASSIFICATION, Length: 71, dtype: int64"
      ]
     },
     "execution_count": 7,
     "metadata": {},
     "output_type": "execute_result"
    }
   ],
   "source": [
    "# Look at CLASSIFICATION value counts for binning\n",
    "alphabet_df['CLASSIFICATION'].value_counts()"
   ]
  },
  {
   "cell_type": "code",
   "execution_count": 8,
   "id": "71bb1026",
   "metadata": {},
   "outputs": [
    {
     "data": {
      "text/plain": [
       "C1000    17326\n",
       "C2000     6074\n",
       "C1200     4837\n",
       "C3000     1918\n",
       "C2100     1883\n",
       "C7000      777\n",
       "C1700      287\n",
       "C4000      194\n",
       "C5000      116\n",
       "C1270      114\n",
       "C2700      104\n",
       "C2800       95\n",
       "C7100       75\n",
       "C1300       58\n",
       "C1280       50\n",
       "C1230       36\n",
       "C1400       34\n",
       "C7200       32\n",
       "C2300       32\n",
       "C1240       30\n",
       "C8000       20\n",
       "C7120       18\n",
       "C1500       16\n",
       "C6000       15\n",
       "C1800       15\n",
       "C1250       14\n",
       "C8200       11\n",
       "C1238       10\n",
       "C1278       10\n",
       "C1235        9\n",
       "C1237        9\n",
       "C7210        7\n",
       "C4100        6\n",
       "C1720        6\n",
       "C2400        6\n",
       "C1257        5\n",
       "C1600        5\n",
       "C0           3\n",
       "C1260        3\n",
       "C2710        3\n",
       "C3200        2\n",
       "C1256        2\n",
       "C1246        2\n",
       "C1234        2\n",
       "C1267        2\n",
       "Name: CLASSIFICATION, dtype: int64"
      ]
     },
     "execution_count": 8,
     "metadata": {},
     "output_type": "execute_result"
    }
   ],
   "source": [
    "# You may find it helpful to look at CLASSIFICATION value counts >1\n",
    "alphabet_df['CLASSIFICATION'].value_counts()[alphabet_df['CLASSIFICATION'].value_counts() > 1]"
   ]
  },
  {
   "cell_type": "code",
   "execution_count": 9,
   "id": "57f0f0dc",
   "metadata": {},
   "outputs": [
    {
     "data": {
      "text/plain": [
       "C1000    17326\n",
       "C2000     6074\n",
       "C1200     4837\n",
       "C3000     1918\n",
       "C2100     1883\n",
       "Other     1484\n",
       "C7000      777\n",
       "Name: CLASSIFICATION, dtype: int64"
      ]
     },
     "execution_count": 9,
     "metadata": {},
     "output_type": "execute_result"
    }
   ],
   "source": [
    "# Choose a cutoff value and create a list of classifications to be replaced\n",
    "# use the variable name `classifications_to_replace`\n",
    "cut_off = 500\n",
    "\n",
    "classifications_to_replace = alphabet_df['CLASSIFICATION'].value_counts()[alphabet_df['CLASSIFICATION'].value_counts() < cut_off].index.tolist()\n",
    "\n",
    "# Replace in dataframe\n",
    "for cls in classifications_to_replace:\n",
    "    alphabet_df['CLASSIFICATION'] = alphabet_df['CLASSIFICATION'].replace(cls, 'Other')\n",
    "    \n",
    "# Check to make sure binning was successful\n",
    "alphabet_df['CLASSIFICATION'].value_counts()"
   ]
  },
  {
   "cell_type": "code",
   "execution_count": 10,
   "id": "46251355",
   "metadata": {},
   "outputs": [
    {
     "data": {
      "text/plain": [
       "1    34294\n",
       "0        5\n",
       "Name: STATUS, dtype: int64"
      ]
     },
     "execution_count": 10,
     "metadata": {},
     "output_type": "execute_result"
    }
   ],
   "source": [
    "# Out of curiosity, how many applications have a status of zero?\n",
    "alphabet_df['STATUS'].value_counts()"
   ]
  },
  {
   "cell_type": "code",
   "execution_count": 11,
   "id": "c6788668",
   "metadata": {},
   "outputs": [
    {
     "data": {
      "text/plain": [
       "(34294, 10)"
      ]
     },
     "execution_count": 11,
     "metadata": {},
     "output_type": "execute_result"
    }
   ],
   "source": [
    "# Discard all applications with status zero\n",
    "alphabet_df = alphabet_df[alphabet_df['STATUS'] == 1]\n",
    "alphabet_df.shape"
   ]
  },
  {
   "cell_type": "code",
   "execution_count": 12,
   "id": "76fbbd8f",
   "metadata": {},
   "outputs": [
    {
     "data": {
      "text/plain": [
       "(34294, 10)"
      ]
     },
     "execution_count": 12,
     "metadata": {},
     "output_type": "execute_result"
    }
   ],
   "source": [
    "# Determine which data points are outside of the 1.5*IQR range\n",
    "ask_amt = alphabet_df['ASK_AMT']\n",
    "\n",
    "quartiles = np.quantile(ask_amt,[.25,.75])\n",
    "iqr = quartiles[1]-quartiles[0]\n",
    "lower_bound = quartiles[0]-(1.5*iqr)\n",
    "upper_bound = quartiles[1]+(1.5*iqr)\n",
    "\n",
    "# Drop the outliers\n",
    "potential_outliers = (ask_amt <= upper_bound) | (ask_amt >= lower_bound)\n",
    "alphabet_df = alphabet_df.loc[potential_outliers,:]\n",
    "alphabet_df.shape"
   ]
  },
  {
   "cell_type": "code",
   "execution_count": 13,
   "id": "75a127d5",
   "metadata": {},
   "outputs": [
    {
     "data": {
      "text/html": [
       "<div>\n",
       "<style scoped>\n",
       "    .dataframe tbody tr th:only-of-type {\n",
       "        vertical-align: middle;\n",
       "    }\n",
       "\n",
       "    .dataframe tbody tr th {\n",
       "        vertical-align: top;\n",
       "    }\n",
       "\n",
       "    .dataframe thead th {\n",
       "        text-align: right;\n",
       "    }\n",
       "</style>\n",
       "<table border=\"1\" class=\"dataframe\">\n",
       "  <thead>\n",
       "    <tr style=\"text-align: right;\">\n",
       "      <th></th>\n",
       "      <th>STATUS</th>\n",
       "      <th>ASK_AMT</th>\n",
       "      <th>IS_SUCCESSFUL</th>\n",
       "      <th>APPLICATION_TYPE_Other</th>\n",
       "      <th>APPLICATION_TYPE_T10</th>\n",
       "      <th>APPLICATION_TYPE_T19</th>\n",
       "      <th>APPLICATION_TYPE_T3</th>\n",
       "      <th>APPLICATION_TYPE_T4</th>\n",
       "      <th>APPLICATION_TYPE_T5</th>\n",
       "      <th>APPLICATION_TYPE_T6</th>\n",
       "      <th>...</th>\n",
       "      <th>INCOME_AMT_1-9999</th>\n",
       "      <th>INCOME_AMT_10000-24999</th>\n",
       "      <th>INCOME_AMT_100000-499999</th>\n",
       "      <th>INCOME_AMT_10M-50M</th>\n",
       "      <th>INCOME_AMT_1M-5M</th>\n",
       "      <th>INCOME_AMT_25000-99999</th>\n",
       "      <th>INCOME_AMT_50M+</th>\n",
       "      <th>INCOME_AMT_5M-10M</th>\n",
       "      <th>SPECIAL_CONSIDERATIONS_N</th>\n",
       "      <th>SPECIAL_CONSIDERATIONS_Y</th>\n",
       "    </tr>\n",
       "  </thead>\n",
       "  <tbody>\n",
       "    <tr>\n",
       "      <th>0</th>\n",
       "      <td>1</td>\n",
       "      <td>5000</td>\n",
       "      <td>1</td>\n",
       "      <td>0</td>\n",
       "      <td>1</td>\n",
       "      <td>0</td>\n",
       "      <td>0</td>\n",
       "      <td>0</td>\n",
       "      <td>0</td>\n",
       "      <td>0</td>\n",
       "      <td>...</td>\n",
       "      <td>0</td>\n",
       "      <td>0</td>\n",
       "      <td>0</td>\n",
       "      <td>0</td>\n",
       "      <td>0</td>\n",
       "      <td>0</td>\n",
       "      <td>0</td>\n",
       "      <td>0</td>\n",
       "      <td>1</td>\n",
       "      <td>0</td>\n",
       "    </tr>\n",
       "    <tr>\n",
       "      <th>1</th>\n",
       "      <td>1</td>\n",
       "      <td>108590</td>\n",
       "      <td>1</td>\n",
       "      <td>0</td>\n",
       "      <td>0</td>\n",
       "      <td>0</td>\n",
       "      <td>1</td>\n",
       "      <td>0</td>\n",
       "      <td>0</td>\n",
       "      <td>0</td>\n",
       "      <td>...</td>\n",
       "      <td>1</td>\n",
       "      <td>0</td>\n",
       "      <td>0</td>\n",
       "      <td>0</td>\n",
       "      <td>0</td>\n",
       "      <td>0</td>\n",
       "      <td>0</td>\n",
       "      <td>0</td>\n",
       "      <td>1</td>\n",
       "      <td>0</td>\n",
       "    </tr>\n",
       "    <tr>\n",
       "      <th>2</th>\n",
       "      <td>1</td>\n",
       "      <td>5000</td>\n",
       "      <td>0</td>\n",
       "      <td>0</td>\n",
       "      <td>0</td>\n",
       "      <td>0</td>\n",
       "      <td>0</td>\n",
       "      <td>0</td>\n",
       "      <td>1</td>\n",
       "      <td>0</td>\n",
       "      <td>...</td>\n",
       "      <td>0</td>\n",
       "      <td>0</td>\n",
       "      <td>0</td>\n",
       "      <td>0</td>\n",
       "      <td>0</td>\n",
       "      <td>0</td>\n",
       "      <td>0</td>\n",
       "      <td>0</td>\n",
       "      <td>1</td>\n",
       "      <td>0</td>\n",
       "    </tr>\n",
       "    <tr>\n",
       "      <th>3</th>\n",
       "      <td>1</td>\n",
       "      <td>6692</td>\n",
       "      <td>1</td>\n",
       "      <td>0</td>\n",
       "      <td>0</td>\n",
       "      <td>0</td>\n",
       "      <td>1</td>\n",
       "      <td>0</td>\n",
       "      <td>0</td>\n",
       "      <td>0</td>\n",
       "      <td>...</td>\n",
       "      <td>0</td>\n",
       "      <td>1</td>\n",
       "      <td>0</td>\n",
       "      <td>0</td>\n",
       "      <td>0</td>\n",
       "      <td>0</td>\n",
       "      <td>0</td>\n",
       "      <td>0</td>\n",
       "      <td>1</td>\n",
       "      <td>0</td>\n",
       "    </tr>\n",
       "    <tr>\n",
       "      <th>4</th>\n",
       "      <td>1</td>\n",
       "      <td>142590</td>\n",
       "      <td>1</td>\n",
       "      <td>0</td>\n",
       "      <td>0</td>\n",
       "      <td>0</td>\n",
       "      <td>1</td>\n",
       "      <td>0</td>\n",
       "      <td>0</td>\n",
       "      <td>0</td>\n",
       "      <td>...</td>\n",
       "      <td>0</td>\n",
       "      <td>0</td>\n",
       "      <td>1</td>\n",
       "      <td>0</td>\n",
       "      <td>0</td>\n",
       "      <td>0</td>\n",
       "      <td>0</td>\n",
       "      <td>0</td>\n",
       "      <td>1</td>\n",
       "      <td>0</td>\n",
       "    </tr>\n",
       "  </tbody>\n",
       "</table>\n",
       "<p>5 rows × 45 columns</p>\n",
       "</div>"
      ],
      "text/plain": [
       "   STATUS  ASK_AMT  IS_SUCCESSFUL  APPLICATION_TYPE_Other  \\\n",
       "0       1     5000              1                       0   \n",
       "1       1   108590              1                       0   \n",
       "2       1     5000              0                       0   \n",
       "3       1     6692              1                       0   \n",
       "4       1   142590              1                       0   \n",
       "\n",
       "   APPLICATION_TYPE_T10  APPLICATION_TYPE_T19  APPLICATION_TYPE_T3  \\\n",
       "0                     1                     0                    0   \n",
       "1                     0                     0                    1   \n",
       "2                     0                     0                    0   \n",
       "3                     0                     0                    1   \n",
       "4                     0                     0                    1   \n",
       "\n",
       "   APPLICATION_TYPE_T4  APPLICATION_TYPE_T5  APPLICATION_TYPE_T6  ...  \\\n",
       "0                    0                    0                    0  ...   \n",
       "1                    0                    0                    0  ...   \n",
       "2                    0                    1                    0  ...   \n",
       "3                    0                    0                    0  ...   \n",
       "4                    0                    0                    0  ...   \n",
       "\n",
       "   INCOME_AMT_1-9999  INCOME_AMT_10000-24999  INCOME_AMT_100000-499999  \\\n",
       "0                  0                       0                         0   \n",
       "1                  1                       0                         0   \n",
       "2                  0                       0                         0   \n",
       "3                  0                       1                         0   \n",
       "4                  0                       0                         1   \n",
       "\n",
       "   INCOME_AMT_10M-50M  INCOME_AMT_1M-5M  INCOME_AMT_25000-99999  \\\n",
       "0                   0                 0                       0   \n",
       "1                   0                 0                       0   \n",
       "2                   0                 0                       0   \n",
       "3                   0                 0                       0   \n",
       "4                   0                 0                       0   \n",
       "\n",
       "   INCOME_AMT_50M+  INCOME_AMT_5M-10M  SPECIAL_CONSIDERATIONS_N  \\\n",
       "0                0                  0                         1   \n",
       "1                0                  0                         1   \n",
       "2                0                  0                         1   \n",
       "3                0                  0                         1   \n",
       "4                0                  0                         1   \n",
       "\n",
       "   SPECIAL_CONSIDERATIONS_Y  \n",
       "0                         0  \n",
       "1                         0  \n",
       "2                         0  \n",
       "3                         0  \n",
       "4                         0  \n",
       "\n",
       "[5 rows x 45 columns]"
      ]
     },
     "execution_count": 13,
     "metadata": {},
     "output_type": "execute_result"
    }
   ],
   "source": [
    "# Convert categorical data to numeric with `pd.get_dummies`\n",
    "app_dummies_df = pd.get_dummies(alphabet_df)\n",
    "app_dummies_df.head()"
   ]
  },
  {
   "cell_type": "code",
   "execution_count": 14,
   "id": "a56442b3",
   "metadata": {},
   "outputs": [],
   "source": [
    "# Split our preprocessed data into our features and target arrays\n",
    "y = app_dummies_df['IS_SUCCESSFUL'].values\n",
    "X = app_dummies_df.drop(['IS_SUCCESSFUL'], axis=1).values\n",
    "\n",
    "# Split the preprocessed data into a training and testing dataset\n",
    "X_train, X_test, y_train, y_test = train_test_split(X, y, random_state=78)"
   ]
  },
  {
   "cell_type": "code",
   "execution_count": 15,
   "id": "5b07806e",
   "metadata": {},
   "outputs": [],
   "source": [
    "# Create a StandardScaler instances\n",
    "scaler = StandardScaler()\n",
    "\n",
    "# Fit the StandardScaler\n",
    "X_scaler = scaler.fit(X_train)\n",
    "\n",
    "# Scale the data\n",
    "X_train_scaled = X_scaler.transform(X_train)\n",
    "X_test_scaled = X_scaler.transform(X_test)"
   ]
  },
  {
   "cell_type": "markdown",
   "id": "6e10a07e",
   "metadata": {},
   "source": [
    "## First Attempt"
   ]
  },
  {
   "cell_type": "code",
   "execution_count": 16,
   "id": "3b21574c",
   "metadata": {},
   "outputs": [
    {
     "name": "stdout",
     "output_type": "stream",
     "text": [
      "Model: \"sequential\"\n",
      "_________________________________________________________________\n",
      "Layer (type)                 Output Shape              Param #   \n",
      "=================================================================\n",
      "dense (Dense)                (None, 88)                3960      \n",
      "_________________________________________________________________\n",
      "dense_1 (Dense)              (None, 44)                3916      \n",
      "_________________________________________________________________\n",
      "dense_2 (Dense)              (None, 22)                990       \n",
      "_________________________________________________________________\n",
      "dense_3 (Dense)              (None, 1)                 23        \n",
      "=================================================================\n",
      "Total params: 8,889\n",
      "Trainable params: 8,889\n",
      "Non-trainable params: 0\n",
      "_________________________________________________________________\n"
     ]
    }
   ],
   "source": [
    "# Define the model - deep neural net, i.e., the number of input features and hidden nodes for each layer.\n",
    "nn = tf.keras.models.Sequential()\n",
    "\n",
    "nn_input_dim = X_train.shape[1]\n",
    "\n",
    "nn_units = nn_input_dim*2\n",
    "\n",
    "# First hidden layer\n",
    "nn.add(tf.keras.layers.Dense(units=nn_units, activation='relu', input_dim=nn_input_dim))\n",
    "\n",
    "# Second hidden layer\n",
    "nn.add(tf.keras.layers.Dense(units=nn_units/2, activation='relu'))\n",
    "\n",
    "# Third hidden layer\n",
    "nn.add(tf.keras.layers.Dense(units=nn_units/4, activation='tanh'))\n",
    "\n",
    "# Output layer\n",
    "nn.add(tf.keras.layers.Dense(units=1, activation='sigmoid'))\n",
    "\n",
    "# Check the structure of the model\n",
    "nn.summary()"
   ]
  },
  {
   "cell_type": "code",
   "execution_count": 17,
   "id": "4430f6d5",
   "metadata": {},
   "outputs": [
    {
     "name": "stdout",
     "output_type": "stream",
     "text": [
      "Train on 25720 samples\n",
      "Epoch 1/25\n",
      "25720/25720 [==============================] - 3s 133us/sample - loss: 0.5663 - accuracy: 0.7205\n",
      "Epoch 2/25\n",
      "25720/25720 [==============================] - 2s 86us/sample - loss: 0.5537 - accuracy: 0.7311\n",
      "Epoch 3/25\n",
      "25720/25720 [==============================] - 2s 86us/sample - loss: 0.5513 - accuracy: 0.7322\n",
      "Epoch 4/25\n",
      "25720/25720 [==============================] - 2s 86us/sample - loss: 0.5496 - accuracy: 0.7326\n",
      "Epoch 5/25\n",
      "25720/25720 [==============================] - 2s 87us/sample - loss: 0.5487 - accuracy: 0.7330\n",
      "Epoch 6/25\n",
      "25720/25720 [==============================] - 2s 88us/sample - loss: 0.5477 - accuracy: 0.7327\n",
      "Epoch 7/25\n",
      "25720/25720 [==============================] - 2s 88us/sample - loss: 0.5464 - accuracy: 0.7339\n",
      "Epoch 8/25\n",
      "25720/25720 [==============================] - 2s 89us/sample - loss: 0.5459 - accuracy: 0.7341\n",
      "Epoch 9/25\n",
      "25720/25720 [==============================] - 2s 89us/sample - loss: 0.5452 - accuracy: 0.7338\n",
      "Epoch 10/25\n",
      "25720/25720 [==============================] - 2s 89us/sample - loss: 0.5448 - accuracy: 0.7351\n",
      "Epoch 11/25\n",
      "25720/25720 [==============================] - 2s 90us/sample - loss: 0.5447 - accuracy: 0.7354\n",
      "Epoch 12/25\n",
      "25720/25720 [==============================] - 3s 97us/sample - loss: 0.5436 - accuracy: 0.7353\n",
      "Epoch 13/25\n",
      "25720/25720 [==============================] - 2s 95us/sample - loss: 0.5437 - accuracy: 0.7364\n",
      "Epoch 14/25\n",
      "25720/25720 [==============================] - 2s 92us/sample - loss: 0.5430 - accuracy: 0.7364\n",
      "Epoch 15/25\n",
      "25720/25720 [==============================] - 3s 98us/sample - loss: 0.5428 - accuracy: 0.7377\n",
      "Epoch 16/25\n",
      "25720/25720 [==============================] - 2s 93us/sample - loss: 0.5422 - accuracy: 0.7367\n",
      "Epoch 17/25\n",
      "25720/25720 [==============================] - 2s 92us/sample - loss: 0.5414 - accuracy: 0.7358\n",
      "Epoch 18/25\n",
      "25720/25720 [==============================] - 2s 95us/sample - loss: 0.5415 - accuracy: 0.7359\n",
      "Epoch 19/25\n",
      "25720/25720 [==============================] - 3s 99us/sample - loss: 0.5412 - accuracy: 0.7368\n",
      "Epoch 20/25\n",
      "25720/25720 [==============================] - 2s 92us/sample - loss: 0.5408 - accuracy: 0.7373\n",
      "Epoch 21/25\n",
      "25720/25720 [==============================] - 2s 93us/sample - loss: 0.5400 - accuracy: 0.7386\n",
      "Epoch 22/25\n",
      "25720/25720 [==============================] - 2s 94us/sample - loss: 0.5403 - accuracy: 0.7371\n",
      "Epoch 23/25\n",
      "25720/25720 [==============================] - 2s 94us/sample - loss: 0.5399 - accuracy: 0.7373\n",
      "Epoch 24/25\n",
      "25720/25720 [==============================] - 2s 95us/sample - loss: 0.5400 - accuracy: 0.7379\n",
      "Epoch 25/25\n",
      "25720/25720 [==============================] - 2s 95us/sample - loss: 0.5396 - accuracy: 0.7371\n"
     ]
    }
   ],
   "source": [
    "# Compile the model\n",
    "nn.compile(loss='binary_crossentropy', optimizer='adam', metrics=['accuracy'])\n",
    "\n",
    "# Train the model\n",
    "fit_model = nn.fit(X_train_scaled, y_train, epochs=25)"
   ]
  },
  {
   "cell_type": "code",
   "execution_count": 18,
   "id": "b132299b",
   "metadata": {},
   "outputs": [
    {
     "name": "stdout",
     "output_type": "stream",
     "text": [
      "8574/1 - 1s - loss: 0.5217 - accuracy: 0.7299\n",
      "Loss: 0.5513958321714391, Accuracy: 0.7298810482025146\n"
     ]
    }
   ],
   "source": [
    "# Evaluate the model using the test data\n",
    "model_loss, model_accuracy = nn.evaluate(X_test_scaled,y_test,verbose=2)\n",
    "print(f'Loss: {model_loss}, Accuracy: {model_accuracy}')"
   ]
  },
  {
   "cell_type": "markdown",
   "id": "409aca22",
   "metadata": {},
   "source": [
    "## Second Attempt"
   ]
  },
  {
   "cell_type": "code",
   "execution_count": 24,
   "id": "52459b82",
   "metadata": {},
   "outputs": [
    {
     "name": "stdout",
     "output_type": "stream",
     "text": [
      "Model: \"sequential_3\"\n",
      "_________________________________________________________________\n",
      "Layer (type)                 Output Shape              Param #   \n",
      "=================================================================\n",
      "dense_12 (Dense)             (None, 132)               5940      \n",
      "_________________________________________________________________\n",
      "dense_13 (Dense)             (None, 44)                5852      \n",
      "_________________________________________________________________\n",
      "dense_14 (Dense)             (None, 44)                1980      \n",
      "_________________________________________________________________\n",
      "dense_15 (Dense)             (None, 1)                 45        \n",
      "=================================================================\n",
      "Total params: 13,817\n",
      "Trainable params: 13,817\n",
      "Non-trainable params: 0\n",
      "_________________________________________________________________\n"
     ]
    }
   ],
   "source": [
    "# Define the model - deep neural net, i.e., the number of input features and hidden nodes for each layer.\n",
    "nn = tf.keras.models.Sequential()\n",
    "\n",
    "nn_input_dim = X_train.shape[1]\n",
    "\n",
    "nn_units = nn_input_dim*3\n",
    "\n",
    "# First hidden layer\n",
    "nn.add(tf.keras.layers.Dense(units=nn_units, activation='tanh', input_dim=nn_input_dim))\n",
    "\n",
    "# Second hidden layer\n",
    "nn.add(tf.keras.layers.Dense(units=nn_units/3, activation='tanh'))\n",
    "\n",
    "# Third hidden layer\n",
    "nn.add(tf.keras.layers.Dense(units=nn_units/3, activation='tanh'))\n",
    "\n",
    "# Output layer\n",
    "nn.add(tf.keras.layers.Dense(units=1, activation='sigmoid'))\n",
    "\n",
    "# Check the structure of the model\n",
    "nn.summary()"
   ]
  },
  {
   "cell_type": "code",
   "execution_count": 25,
   "id": "1bf2e4db",
   "metadata": {},
   "outputs": [
    {
     "name": "stdout",
     "output_type": "stream",
     "text": [
      "Train on 25720 samples\n",
      "Epoch 1/50\n",
      "25720/25720 [==============================] - 4s 141us/sample - loss: 0.5680 - accuracy: 0.7222\n",
      "Epoch 2/50\n",
      "25720/25720 [==============================] - 3s 101us/sample - loss: 0.5564 - accuracy: 0.7306\n",
      "Epoch 3/50\n",
      "25720/25720 [==============================] - 3s 101us/sample - loss: 0.5530 - accuracy: 0.7311\n",
      "Epoch 4/50\n",
      "25720/25720 [==============================] - 3s 103us/sample - loss: 0.5515 - accuracy: 0.7308\n",
      "Epoch 5/50\n",
      "25720/25720 [==============================] - 3s 103us/sample - loss: 0.5498 - accuracy: 0.7306\n",
      "Epoch 6/50\n",
      "25720/25720 [==============================] - 3s 104us/sample - loss: 0.5478 - accuracy: 0.7322\n",
      "Epoch 7/50\n",
      "25720/25720 [==============================] - 3s 104us/sample - loss: 0.5469 - accuracy: 0.7333\n",
      "Epoch 8/50\n",
      "25720/25720 [==============================] - 3s 104us/sample - loss: 0.5457 - accuracy: 0.7337\n",
      "Epoch 9/50\n",
      "25720/25720 [==============================] - 3s 104us/sample - loss: 0.5449 - accuracy: 0.7326\n",
      "Epoch 10/50\n",
      "25720/25720 [==============================] - 3s 105us/sample - loss: 0.5445 - accuracy: 0.7351\n",
      "Epoch 11/50\n",
      "25720/25720 [==============================] - 3s 104us/sample - loss: 0.5428 - accuracy: 0.7350\n",
      "Epoch 12/50\n",
      "25720/25720 [==============================] - 3s 105us/sample - loss: 0.5428 - accuracy: 0.7332\n",
      "Epoch 13/50\n",
      "25720/25720 [==============================] - 3s 105us/sample - loss: 0.5423 - accuracy: 0.7357\n",
      "Epoch 14/50\n",
      "25720/25720 [==============================] - 3s 106us/sample - loss: 0.5418 - accuracy: 0.7361\n",
      "Epoch 15/50\n",
      "25720/25720 [==============================] - 3s 106us/sample - loss: 0.5406 - accuracy: 0.7356\n",
      "Epoch 16/50\n",
      "25720/25720 [==============================] - 3s 107us/sample - loss: 0.5404 - accuracy: 0.7370\n",
      "Epoch 17/50\n",
      "25720/25720 [==============================] - 3s 109us/sample - loss: 0.5402 - accuracy: 0.7380\n",
      "Epoch 18/50\n",
      "25720/25720 [==============================] - 3s 109us/sample - loss: 0.5400 - accuracy: 0.7379\n",
      "Epoch 19/50\n",
      "25720/25720 [==============================] - 3s 109us/sample - loss: 0.5395 - accuracy: 0.7372\n",
      "Epoch 20/50\n",
      "25720/25720 [==============================] - 3s 110us/sample - loss: 0.5389 - accuracy: 0.7377\n",
      "Epoch 21/50\n",
      "25720/25720 [==============================] - 3s 110us/sample - loss: 0.5386 - accuracy: 0.7383\n",
      "Epoch 22/50\n",
      "25720/25720 [==============================] - 3s 110us/sample - loss: 0.5379 - accuracy: 0.7377\n",
      "Epoch 23/50\n",
      "25720/25720 [==============================] - 3s 111us/sample - loss: 0.5379 - accuracy: 0.7387\n",
      "Epoch 24/50\n",
      "25720/25720 [==============================] - 3s 112us/sample - loss: 0.5373 - accuracy: 0.7387\n",
      "Epoch 25/50\n",
      "25720/25720 [==============================] - 3s 112us/sample - loss: 0.5374 - accuracy: 0.7386\n",
      "Epoch 26/50\n",
      "25720/25720 [==============================] - 3s 112us/sample - loss: 0.5368 - accuracy: 0.7393\n",
      "Epoch 27/50\n",
      "25720/25720 [==============================] - 3s 127us/sample - loss: 0.5366 - accuracy: 0.7394\n",
      "Epoch 28/50\n",
      "25720/25720 [==============================] - 3s 112us/sample - loss: 0.5365 - accuracy: 0.7390\n",
      "Epoch 29/50\n",
      "25720/25720 [==============================] - 3s 112us/sample - loss: 0.5363 - accuracy: 0.7390\n",
      "Epoch 30/50\n",
      "25720/25720 [==============================] - 3s 113us/sample - loss: 0.5359 - accuracy: 0.7394\n",
      "Epoch 31/50\n",
      "25720/25720 [==============================] - 3s 112us/sample - loss: 0.5356 - accuracy: 0.7396\n",
      "Epoch 32/50\n",
      "25720/25720 [==============================] - 3s 113us/sample - loss: 0.5356 - accuracy: 0.7400\n",
      "Epoch 33/50\n",
      "25720/25720 [==============================] - 3s 113us/sample - loss: 0.5351 - accuracy: 0.7399\n",
      "Epoch 34/50\n",
      "25720/25720 [==============================] - 3s 115us/sample - loss: 0.5351 - accuracy: 0.7395\n",
      "Epoch 35/50\n",
      "25720/25720 [==============================] - 3s 114us/sample - loss: 0.5347 - accuracy: 0.7406\n",
      "Epoch 36/50\n",
      "25720/25720 [==============================] - 3s 114us/sample - loss: 0.5350 - accuracy: 0.7400\n",
      "Epoch 37/50\n",
      "25720/25720 [==============================] - 3s 114us/sample - loss: 0.5347 - accuracy: 0.7400\n",
      "Epoch 38/50\n",
      "25720/25720 [==============================] - 3s 116us/sample - loss: 0.5344 - accuracy: 0.7407\n",
      "Epoch 39/50\n",
      "25720/25720 [==============================] - 3s 115us/sample - loss: 0.5341 - accuracy: 0.7407\n",
      "Epoch 40/50\n",
      "25720/25720 [==============================] - 3s 115us/sample - loss: 0.5342 - accuracy: 0.7410\n",
      "Epoch 41/50\n",
      "25720/25720 [==============================] - 3s 117us/sample - loss: 0.5341 - accuracy: 0.7404\n",
      "Epoch 42/50\n",
      "25720/25720 [==============================] - 3s 116us/sample - loss: 0.5335 - accuracy: 0.7405\n",
      "Epoch 43/50\n",
      "25720/25720 [==============================] - 3s 116us/sample - loss: 0.5336 - accuracy: 0.7411\n",
      "Epoch 44/50\n",
      "25720/25720 [==============================] - 3s 116us/sample - loss: 0.5334 - accuracy: 0.7409\n",
      "Epoch 45/50\n",
      "25720/25720 [==============================] - 3s 116us/sample - loss: 0.5337 - accuracy: 0.7416\n",
      "Epoch 46/50\n",
      "25720/25720 [==============================] - 3s 116us/sample - loss: 0.5333 - accuracy: 0.7414\n",
      "Epoch 47/50\n",
      "25720/25720 [==============================] - 3s 116us/sample - loss: 0.5331 - accuracy: 0.7421\n",
      "Epoch 48/50\n",
      "25720/25720 [==============================] - 3s 118us/sample - loss: 0.5334 - accuracy: 0.7408\n",
      "Epoch 49/50\n",
      "25720/25720 [==============================] - 3s 117us/sample - loss: 0.5330 - accuracy: 0.7414\n",
      "Epoch 50/50\n",
      "25720/25720 [==============================] - 3s 117us/sample - loss: 0.5328 - accuracy: 0.7399\n"
     ]
    }
   ],
   "source": [
    "# Compile the model\n",
    "nn.compile(loss='binary_crossentropy', optimizer='adam', metrics=['accuracy'])\n",
    "\n",
    "# Train the model\n",
    "fit_model = nn.fit(X_train_scaled, y_train, epochs=50)"
   ]
  },
  {
   "cell_type": "code",
   "execution_count": 26,
   "id": "a18a9d73",
   "metadata": {},
   "outputs": [
    {
     "name": "stdout",
     "output_type": "stream",
     "text": [
      "8574/1 - 1s - loss: 0.5219 - accuracy: 0.7274\n",
      "Loss: 0.554159273474484, Accuracy: 0.7274317741394043\n"
     ]
    }
   ],
   "source": [
    "# Evaluate the model using the test data\n",
    "model_loss, model_accuracy = nn.evaluate(X_test_scaled,y_test,verbose=2)\n",
    "print(f'Loss: {model_loss}, Accuracy: {model_accuracy}')"
   ]
  },
  {
   "cell_type": "markdown",
   "id": "13679562",
   "metadata": {},
   "source": [
    "## Third Attempt"
   ]
  },
  {
   "cell_type": "code",
   "execution_count": null,
   "id": "c4eca33e",
   "metadata": {},
   "outputs": [],
   "source": []
  },
  {
   "cell_type": "code",
   "execution_count": null,
   "id": "625f7836",
   "metadata": {},
   "outputs": [],
   "source": []
  },
  {
   "cell_type": "code",
   "execution_count": null,
   "id": "1d0ad88a",
   "metadata": {},
   "outputs": [],
   "source": []
  },
  {
   "cell_type": "code",
   "execution_count": null,
   "id": "c06138ae",
   "metadata": {},
   "outputs": [],
   "source": []
  },
  {
   "cell_type": "code",
   "execution_count": null,
   "id": "30345469",
   "metadata": {},
   "outputs": [],
   "source": []
  },
  {
   "cell_type": "code",
   "execution_count": null,
   "id": "d5229355",
   "metadata": {},
   "outputs": [],
   "source": []
  },
  {
   "cell_type": "code",
   "execution_count": null,
   "id": "ef79f160",
   "metadata": {},
   "outputs": [],
   "source": []
  },
  {
   "cell_type": "code",
   "execution_count": null,
   "id": "7b9e6b80",
   "metadata": {},
   "outputs": [],
   "source": []
  },
  {
   "cell_type": "markdown",
   "id": "1a67545b",
   "metadata": {},
   "source": [
    "## Optimize the Model"
   ]
  },
  {
   "cell_type": "code",
   "execution_count": 13,
   "id": "58b74977",
   "metadata": {},
   "outputs": [],
   "source": [
    "# Create a method that creates a new Sequential model with hyperparameter options\n",
    "def create_model(hp):\n",
    "    nn_model = tf.keras.models.Sequential()\n",
    "\n",
    "    # Allow kerastuner to decide which activation function to use in hidden layers\n",
    "    activation = hp.Choice('activation',['relu','tanh','sigmoid'])\n",
    "    \n",
    "    # Allow kerastuner to decide number of neurons in first layer\n",
    "    nn_model.add(tf.keras.layers.Dense(units=hp.Int('first_units',\n",
    "        min_value=1,\n",
    "        max_value=10,\n",
    "        step=2), activation=activation, input_dim=43))\n",
    "\n",
    "    # Allow kerastuner to decide number of hidden layers and neurons in hidden layers\n",
    "    for i in range(hp.Int('num_layers', 1, 6)):\n",
    "        nn_model.add(tf.keras.layers.Dense(units=hp.Int('units_' + str(i),\n",
    "            min_value=1,\n",
    "            max_value=10,\n",
    "            step=2),\n",
    "            activation=activation))\n",
    "    \n",
    "    nn_model.add(tf.keras.layers.Dense(units=1, activation='sigmoid'))\n",
    "\n",
    "    # Compile the model\n",
    "    nn_model.compile(loss='binary_crossentropy', optimizer='adam', metrics=['accuracy'])\n",
    "    \n",
    "    return nn_model"
   ]
  },
  {
   "cell_type": "code",
   "execution_count": 14,
   "id": "337ac1f0",
   "metadata": {},
   "outputs": [],
   "source": [
    "# Create a `Hyperband()` tuner instance\n",
    "tuner = kt.Hyperband(\n",
    "    create_model,\n",
    "    objective='val_accuracy',\n",
    "    max_epochs=20,\n",
    "    hyperband_iterations=2)"
   ]
  },
  {
   "cell_type": "code",
   "execution_count": 15,
   "id": "7c25088d",
   "metadata": {},
   "outputs": [
    {
     "name": "stdout",
     "output_type": "stream",
     "text": [
      "Trial 60 Complete [00h 00m 54s]\n",
      "val_accuracy: 0.7181341052055359\n",
      "\n",
      "Best val_accuracy So Far: 0.7281632423400879\n",
      "Total elapsed time: 00h 19m 29s\n",
      "INFO:tensorflow:Oracle triggered exit\n"
     ]
    }
   ],
   "source": [
    "# Run the kerastuner search for best hyperparameters\n",
    "tuner.search(X_train_scaled, y_train, epochs=20, validation_data=(X_test_scaled, y_test))"
   ]
  },
  {
   "cell_type": "code",
   "execution_count": 16,
   "id": "29fb8dcd",
   "metadata": {},
   "outputs": [
    {
     "data": {
      "text/plain": [
       "{'activation': 'tanh',\n",
       " 'first_units': 5,\n",
       " 'num_layers': 4,\n",
       " 'units_0': 3,\n",
       " 'units_1': 9,\n",
       " 'units_2': 7,\n",
       " 'units_3': 7,\n",
       " 'units_4': 3,\n",
       " 'units_5': 5,\n",
       " 'tuner/epochs': 20,\n",
       " 'tuner/initial_epoch': 0,\n",
       " 'tuner/bracket': 0,\n",
       " 'tuner/round': 0}"
      ]
     },
     "execution_count": 16,
     "metadata": {},
     "output_type": "execute_result"
    }
   ],
   "source": [
    "# Get best model hyperparameters\n",
    "best_hyper = tuner.get_best_hyperparameters(1)[0]\n",
    "best_hyper.values"
   ]
  },
  {
   "cell_type": "code",
   "execution_count": 17,
   "id": "1c169c6d",
   "metadata": {},
   "outputs": [
    {
     "name": "stdout",
     "output_type": "stream",
     "text": [
      "8575/1 - 0s - loss: 0.5709 - accuracy: 0.7282\n",
      "Loss: 0.5547840290931502, Accuracy: 0.7281632423400879\n"
     ]
    }
   ],
   "source": [
    "# Evaluate best model against full test data\n",
    "best_model = tuner.get_best_models(1)[0]\n",
    "model_loss, model_accuracy = best_model.evaluate(X_test_scaled,y_test,verbose=2)\n",
    "print(f'Loss: {model_loss}, Accuracy: {model_accuracy}')"
   ]
  },
  {
   "cell_type": "code",
   "execution_count": 18,
   "id": "4a6f2137",
   "metadata": {},
   "outputs": [],
   "source": [
    "# Save and export results to an HDF5 file\n",
    "best_model.save('AlphabetSoupCharity_Optimization.h5')"
   ]
  },
  {
   "cell_type": "code",
   "execution_count": null,
   "id": "45f8a018",
   "metadata": {},
   "outputs": [],
   "source": []
  }
 ],
 "metadata": {
  "kernelspec": {
   "display_name": "Python 3",
   "language": "python",
   "name": "python3"
  },
  "language_info": {
   "codemirror_mode": {
    "name": "ipython",
    "version": 3
   },
   "file_extension": ".py",
   "mimetype": "text/x-python",
   "name": "python",
   "nbconvert_exporter": "python",
   "pygments_lexer": "ipython3",
   "version": "3.6.10"
  }
 },
 "nbformat": 4,
 "nbformat_minor": 5
}
